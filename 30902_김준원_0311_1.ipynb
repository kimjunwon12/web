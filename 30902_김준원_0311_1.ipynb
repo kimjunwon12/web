{
 "cells": [
  {
   "cell_type": "markdown",
   "id": "13547eed",
   "metadata": {},
   "source": [
    "### 30902_김준원_0311_1"
   ]
  },
  {
   "cell_type": "markdown",
   "id": "b932689a",
   "metadata": {},
   "source": [
    "## 2.2 실행 결과를 보여주는 출력 명령어\n",
    "#### 2.2.2 출력 명령어 print()"
   ]
  },
  {
   "cell_type": "code",
   "execution_count": 3,
   "id": "2dd75a42",
   "metadata": {},
   "outputs": [
    {
     "name": "stdout",
     "output_type": "stream",
     "text": [
      "123\n"
     ]
    }
   ],
   "source": [
    "print(\"123\")"
   ]
  },
  {
   "cell_type": "code",
   "execution_count": 6,
   "id": "c3b52105",
   "metadata": {},
   "outputs": [
    {
     "data": {
      "text/plain": [
       "str"
      ]
     },
     "execution_count": 6,
     "metadata": {},
     "output_type": "execute_result"
    }
   ],
   "source": [
    "type(\"123\")"
   ]
  },
  {
   "cell_type": "code",
   "execution_count": 8,
   "id": "53196e19",
   "metadata": {},
   "outputs": [
    {
     "name": "stdout",
     "output_type": "stream",
     "text": [
      "1111111110\n"
     ]
    }
   ],
   "source": [
    "print(123456789+987654321)"
   ]
  },
  {
   "cell_type": "code",
   "execution_count": 12,
   "id": "b7d05453",
   "metadata": {},
   "outputs": [
    {
     "name": "stdout",
     "output_type": "stream",
     "text": [
      "123456789987654321\n"
     ]
    }
   ],
   "source": [
    "print(\"123456789\"+str(987654321))"
   ]
  },
  {
   "cell_type": "markdown",
   "id": "d2f6d6c4",
   "metadata": {},
   "source": [
    "### 2.2.3 사칙연산 출력하기\n",
    "'''\n",
    "더하기 뺴기 나누기 곱하기\n",
    "123 , 456  "
   ]
  },
  {
   "cell_type": "code",
   "execution_count": 16,
   "id": "cdc16307",
   "metadata": {},
   "outputs": [
    {
     "name": "stdout",
     "output_type": "stream",
     "text": [
      "579\n",
      "-333\n",
      "0.26973684210526316\n",
      "56088\n"
     ]
    }
   ],
   "source": [
    "print(123+456)\n",
    "print(123-456)\n",
    "print(123/456)\n",
    "print(123*456)"
   ]
  },
  {
   "cell_type": "markdown",
   "id": "f98d4233",
   "metadata": {},
   "source": [
    "### // 나눈 나머지값\n",
    "### % 나눈 몫\n",
    "### ** 제곱수\n"
   ]
  },
  {
   "cell_type": "code",
   "execution_count": 21,
   "id": "da392821",
   "metadata": {},
   "outputs": [
    {
     "name": "stdout",
     "output_type": "stream",
     "text": [
      "13\n",
      "4\n",
      "18509302102818816\n"
     ]
    }
   ],
   "source": [
    "print(108 // 8) #나눈 몫\n",
    "print(108 % 8) #나눈 나머자\n",
    "print(108 ** 8) #제곱 수"
   ]
  },
  {
   "cell_type": "code",
   "execution_count": null,
   "id": "15f4a1b7",
   "metadata": {},
   "outputs": [],
   "source": [
    "p"
   ]
  }
 ],
 "metadata": {
  "kernelspec": {
   "display_name": "Python 3 (ipykernel)",
   "language": "python",
   "name": "python3"
  },
  "language_info": {
   "codemirror_mode": {
    "name": "ipython",
    "version": 3
   },
   "file_extension": ".py",
   "mimetype": "text/x-python",
   "name": "python",
   "nbconvert_exporter": "python",
   "pygments_lexer": "ipython3",
   "version": "3.9.7"
  }
 },
 "nbformat": 4,
 "nbformat_minor": 5
}
