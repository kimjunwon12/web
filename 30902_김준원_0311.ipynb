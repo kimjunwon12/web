{
 "cells": [
  {
   "cell_type": "markdown",
   "id": "434c5d74",
   "metadata": {},
   "source": [
    "본 문제는 python 의 빠른 기초 학습을 위해 설계된 문제로서 python 코드 제출을 기준으로 설명되어 있습니다. \n",
    "------\n",
    "\n",
    "알파벳과 숫자로 이루어진 단어 1개가 입력된다.\n",
    "입력받은 단어의 각 문자를 한 줄에 한 문자씩 분리해 출력한다.\n",
    "\n",
    "예시\n",
    "s = input()\n",
    "print(s[0])\n",
    "print(s[1])\n",
    "...\n",
    "\n",
    "참고\n",
    "s[0] 은 첫 번째 문자를 의미한다.\n"
   ]
  },
  {
   "cell_type": "code",
   "execution_count": 1,
   "id": "7af40b71",
   "metadata": {},
   "outputs": [
    {
     "name": "stdout",
     "output_type": "stream",
     "text": [
      "Hello\n",
      "H\n",
      "e\n",
      "l\n",
      "l\n",
      "o\n"
     ]
    }
   ],
   "source": [
    "s = input()\n",
    "print(s[0])\n",
    "print(s[1])\n",
    "print(s[2])\n",
    "print(s[3])\n",
    "print(s[4])"
   ]
  },
  {
   "cell_type": "markdown",
   "id": "c5d7beb2",
   "metadata": {},
   "source": [
    "본 문제는 python 의 빠른 기초 학습을 위해 설계된 문제로서 python 코드 제출을 기준으로 설명되어 있습니다. \n",
    "------\n",
    "\n",
    "6자리의 연월일(YYMMDD)을 입력받아 나누어 출력해보자.\n",
    "\n",
    "참고\n",
    "s = input()\n",
    "print(s[0:2])\n",
    "\n",
    "를 실행하면 0번째 문자부터 1번째 문자까지 잘라 출력한다.\n",
    "s[a:b] 라고 하면, s라는 단어에서 a번째 문자부터 b-1번째 문자까지 잘라낸 부분을 의미한다.\n",
    "다른 자르기 방법도 있다.\n"
   ]
  },
  {
   "cell_type": "code",
   "execution_count": 7,
   "id": "06160634",
   "metadata": {},
   "outputs": [
    {
     "name": "stdout",
     "output_type": "stream",
     "text": [
      "200304\n",
      "20 03 04\n"
     ]
    }
   ],
   "source": [
    "s = input()\n",
    "print(s[0:2],s[2:4],s[4:6])"
   ]
  },
  {
   "cell_type": "markdown",
   "id": "3edf8b3b",
   "metadata": {},
   "source": [
    "본 문제는 python 의 빠른 기초 학습을 위해 설계된 문제로서 python 코드 제출을 기준으로 설명되어 있습니다. \n",
    "------\n",
    "\n",
    "시:분:초 형식으로 시간이 입력될 때 분만 출력해보자.\n",
    "\n",
    "어떻게 분만 출력해야 할지 주의 깊게 생각해야한다."
   ]
  },
  {
   "cell_type": "code",
   "execution_count": 17,
   "id": "e48ff895",
   "metadata": {},
   "outputs": [
    {
     "name": "stdout",
     "output_type": "stream",
     "text": [
      "17:23:57\n",
      "23\n"
     ]
    }
   ],
   "source": [
    "a, b, c = input().split(':')\n",
    "print(b)"
   ]
  },
  {
   "cell_type": "markdown",
   "id": "80107815",
   "metadata": {},
   "source": [
    "본 문제는 python 의 빠른 기초 학습을 위해 설계된 문제로서 python 코드 제출을 기준으로 설명되어 있습니다. \n",
    "------\n",
    "\n",
    "알파벳 문자와 숫자로 이루어진 단어 2개를 입력받아\n",
    "순서대로 붙여 출력하는 프로그램을 작성해보자.\n",
    "\n",
    "예시\n",
    "w1, w2 = input().split()\n",
    "s = w1 + w2\n",
    "print(s)\n",
    "\n",
    "참고\n",
    "단어는 문자(character)들로 만든다.\n",
    "문자들로 구성된 문장을 문자열(string)이라고 부른다.\n",
    "문자열에는 공백문자(' ')가 포함될 수 있는데, \n",
    "문자 1개는 길이가 1인 문자열이라고 할 수 있고, 공백문자(' ')가 없는 문자열은 단어(word)라고 할 수 있다.\n",
    "\n",
    "일반적인 문장들은 공백으로 구분된 단어들로 만들어지기 때문에,\n",
    "공백문자로 구분된 문장에서 단어를 잘라내기 위해서는 공백문자(' ')를 기준으로 자르면 된다.\n",
    "키보드로 입력되는 것들은 기본적으로 문자열로 인식되고, 문자열끼리 더하기(+)를 실행하면,\n",
    "두 문자열을 합쳐 연결한(concatenate) 결과를 만들어 낸다."
   ]
  },
  {
   "cell_type": "code",
   "execution_count": 16,
   "id": "b1903e45",
   "metadata": {},
   "outputs": [
    {
     "name": "stdout",
     "output_type": "stream",
     "text": [
      "hello World\n",
      "helloWorld\n"
     ]
    }
   ],
   "source": [
    "w1, w2 = input().split()\n",
    "s = w1 + w2\n",
    "print(s)"
   ]
  },
  {
   "cell_type": "markdown",
   "id": "f89f6a48",
   "metadata": {},
   "source": [
    "본 문제는 python 의 빠른 기초 학습을 위해 설계된 문제로서 python 코드 제출을 기준으로 설명되어 있습니다. \n",
    "------\n",
    "\n",
    "정수 2개를 입력받아\n",
    "합을 출력하는 프로그램을 작성해보자.\n",
    "\n",
    "예시\n",
    "a, b = input().split()\n",
    "c = int(a) + int(b)\n",
    "print(c)\n",
    "\n",
    "참고\n",
    "입력되는 값은 기본적으로 문자열로 인식된다.\n",
    "\n",
    "문자열 + 문자열은 두 문자열을 합친 문자열을 만든다.\n",
    "숫자로 구성된 문자열이나 실수를 정수(integer) 값으로 바꾸기 위해서는 int( ) 를 사용할 수 있다.\n",
    "수 + 수의 결과는 합(addition)이 계산된다."
   ]
  },
  {
   "cell_type": "code",
   "execution_count": 18,
   "id": "1685824c",
   "metadata": {},
   "outputs": [
    {
     "name": "stdout",
     "output_type": "stream",
     "text": [
      "123 -123\n",
      "0\n"
     ]
    }
   ],
   "source": [
    "a, b = input().split()\n",
    "c = int(a) + int(b)\n",
    "print(c)"
   ]
  },
  {
   "cell_type": "markdown",
   "id": "a7c60b42",
   "metadata": {},
   "source": [
    "본 문제는 python 의 빠른 기초 학습을 위해 설계된 문제로서 python 코드 제출을 기준으로 설명되어 있습니다. \n",
    "------\n",
    "\n",
    "실수 2개를 입력받아\n",
    "합을 출력하는 프로그램을 작성해보자.\n",
    "\n",
    "참고\n",
    "입력되는 값은 기본적으로 문자열로 인식된다.\n",
    "\n",
    "숫자로 구성된 문자열이나 정수를 실수(real number) 값으로 바꾸기 위해서는 float( ) 를 사용할 수 있다.\n",
    "소숫점(.)은 그 위치가 정해져있지 않고 이리저리 둥둥 떠다니므로, floating point라고 부른다.\n"
   ]
  },
  {
   "cell_type": "code",
   "execution_count": 22,
   "id": "443f656c",
   "metadata": {},
   "outputs": [
    {
     "name": "stdout",
     "output_type": "stream",
     "text": [
      "0.1\n",
      "0.9\n",
      "1.0\n"
     ]
    }
   ],
   "source": [
    "a=input()\n",
    "b=input()\n",
    "a=float(a)\n",
    "b=float(b)\n",
    "c=a+b\n",
    "print(c)"
   ]
  },
  {
   "cell_type": "markdown",
   "id": "fc1980fb",
   "metadata": {},
   "source": [
    "본 문제는 python 의 빠른 기초 학습을 위해 설계된 문제로서 python 코드 제출을 기준으로 설명되어 있습니다. \n",
    "------\n",
    "\n",
    "10진수를 입력받아 16진수(hexadecimal)로 출력해보자.\n",
    "\n",
    "예시\n",
    "a = input()\n",
    "n = int(a)            #입력된 a를 10진수 값으로 변환해 변수 n에 저장\n",
    "print('%x'% n)  #n에 저장되어있는 값을 16진수(hexadecimal) 소문자 형태 문자열로 출력\n",
    "\n",
    "참고\n",
    "10진수 형태로 입력받고\n",
    "%x로 출력하면 16진수(hexadecimal) 소문자로 출력된다.\n",
    "(%o로 출력하면 8진수(octal) 문자열로 출력된다.)\n",
    "\n",
    "10진법은 한 자리에 10개(0 1 2 3 4 5 6 7 8 9)의 문자를 사용하고,\n",
    "16진법은 영문 소문자를 사용하는 경우에 한 자리에 16개(0 1 2 3 4 5 6 7 8 9 a b c d e f)의 문자를 사용한다.\n",
    "16진수 a는 10진수의 10, b는 11, c는 12 ... 와 같다.\n",
    "\n",
    "\n"
   ]
  },
  {
   "cell_type": "code",
   "execution_count": 24,
   "id": "19216f45",
   "metadata": {},
   "outputs": [
    {
     "name": "stdout",
     "output_type": "stream",
     "text": [
      "255\n",
      "ff\n"
     ]
    }
   ],
   "source": [
    "a = input()\n",
    "b = int(a)            \n",
    "print('%x'% b)"
   ]
  },
  {
   "cell_type": "markdown",
   "id": "5945073d",
   "metadata": {},
   "source": [
    "본 문제는 python 의 빠른 기초 학습을 위해 설계된 문제로서 python 코드 제출을 기준으로 설명되어 있습니다. \n",
    "------\n",
    "\n",
    "10진수를 입력받아 16진수(hexadecimal)로 출력해보자.\n",
    "\n",
    "예시\n",
    "print('%X' % n)  #n에 저장되어있는 값을 16진수 대문자 형태 문자열로 출력\n",
    "\n",
    "참고\n",
    "10진수 형태로 입력받고\n",
    "%X로 출력하면 16진수(hexadecimal)대문자로 출력된다.\n",
    "\n",
    "16진법은 영문 소문자를 사용하는 경우에 한 자리에 16개(0 1 2 3 4 5 6 7 8 9 A B C D E F)의 문자를 사용한다.\n",
    "16진수 A는 10진수의 10, B는 11, C는 12 ... 와 같다.\n",
    "\n"
   ]
  },
  {
   "cell_type": "code",
   "execution_count": 26,
   "id": "bc3e6bdd",
   "metadata": {},
   "outputs": [
    {
     "name": "stdout",
     "output_type": "stream",
     "text": [
      "255\n",
      "FF\n"
     ]
    }
   ],
   "source": [
    "a = input()\n",
    "b = int(a)            \n",
    "print('%X'% b)"
   ]
  },
  {
   "cell_type": "markdown",
   "id": "cb9b1110",
   "metadata": {},
   "source": [
    "본 문제는 python 의 빠른 기초 학습을 위해 설계된 문제로서 python 코드 제출을 기준으로 설명되어 있습니다. \n",
    "------\n",
    "\n",
    "16진수를 입력받아 8진수(octal)로 출력해보자.\n",
    "\n",
    "예시\n",
    "a = input()\n",
    "n = int(a, 16)      #입력된 a를 16진수로 인식해 변수 n에 저장\n",
    "print('%o' % n)  #n에 저장되어있는 값을 8진수(octal) 형태 문자열로 출력\n",
    "\n",
    "참고\n",
    "8진법은 한 자리에 8개(0 1 2 3 4 5 6 7)의 문자를 사용한다.\n",
    "8진수 10은 10진수의 8, 11은 9, 12는 10 ... 와 같다.\n"
   ]
  },
  {
   "cell_type": "code",
   "execution_count": 28,
   "id": "7d0d3b8d",
   "metadata": {},
   "outputs": [
    {
     "name": "stdout",
     "output_type": "stream",
     "text": [
      "f\n",
      "17\n"
     ]
    }
   ],
   "source": [
    "a = input()\n",
    "b = int(a, 16) \n",
    "print('%o' % b) "
   ]
  },
  {
   "cell_type": "markdown",
   "id": "0c299780",
   "metadata": {},
   "source": [
    "본 문제는 python 의 빠른 기초 학습을 위해 설계된 문제로서 python 코드 제출을 기준으로 설명되어 있습니다. \n",
    "------\n",
    "\n",
    "영문자 1개를 입력받아 10진수 유니코드(Unicode) 값으로 출력해보자.\n",
    "\n",
    "예시\n",
    "n = ord(input())\n",
    "print(n)\n",
    "\n",
    "참고\n",
    "n = ord(input())  #입력받은 문자를 10진수 유니코드 값으로 변환한 후, n에 저장한다.\n",
    "\n",
    "ord( ) 는 어떤 문자의 순서 위치(ordinal position) 값을 의미한다.  \n",
    "실제로 각각의 문자들에는 연속된 정수 값이 순서에 따라 부여 되어 있다. A:65, B:66, C:67 .... \n",
    "ord(c) : 문자 c 를 10진수로 변환한 값 \n",
    "\n",
    "컴퓨터로 저장되고 처리되는 모든 데이터들은 2진수 형태로 정수화 되어야 하는데,\n",
    "컴퓨터에 문자를 저장하는 방법으로 아스키코드(ASCII Code)나 유니코드(Unicode)가 자주 사용된다.\n",
    "\n",
    "예를 들어, 영문 대문자 'A'는 10진수 값 65 로 표현하고, \n",
    "2진수(binary digit) 값 1000001 로 바꾸어 컴퓨터 내부에 저장한다. \n",
    "\n",
    "유니코드(unicode)는 세계 여러 나라의 문자를 공통된 코드 값으로 저장할 때 사용하는 표준 코드이다."
   ]
  },
  {
   "cell_type": "code",
   "execution_count": 35,
   "id": "5c0fc683",
   "metadata": {},
   "outputs": [
    {
     "name": "stdout",
     "output_type": "stream",
     "text": [
      "B\n",
      "66\n"
     ]
    }
   ],
   "source": [
    "B=ord(input())\n",
    "print(B)"
   ]
  },
  {
   "cell_type": "markdown",
   "id": "d6477f1a",
   "metadata": {},
   "source": [
    "본 문제는 python 의 빠른 기초 학습을 위해 설계된 문제로서 python 코드 제출을 기준으로 설명되어 있습니다. \n",
    "------\n",
    "\n",
    "10진 정수 1개를 입력받아\n",
    "유니코드 문자로 출력해보자.\n",
    "\n",
    "\n",
    "예시\n",
    "c = int(input())\n",
    "print(chr(c))  #c에 저장되어 있는 정수 값을 유니코드 문자(chracter)로 바꿔 출력한다. \n",
    "\n",
    "\n",
    "참고\n",
    "입력은 기본적으로 모두 문자열로 입력되는 것이라고 할 수 있다. \n",
    "따라서, 입력 값이 문자/문자열/정수/실수인지에 따라서 먼저 정확하게 변환시킨 다음에 사용하거나 계산하는 것이 좋다.\n",
    "\n",
    "예를 들어 123 이 입력 되었다고 한다면, 이건 정수일까? 문자열일까?\n",
    "조금 생각해보면, 입력된 것만 보고는 그 값이 어떤 데이터인지 알 수 없다는 것을 쉽게 이해할 수 있다.\n",
    "따라서, 그 입력 값을 어떻게 해석하고 변환할 지에 대해서 명확하게 작성해 주어야 하는 것이다. \n",
    "\n",
    "chr( )는 정수값->문자, ord( )는 문자->정수값 형태로 바꿔주는 서로 반대 방향으로 바꾸어 주는 기능을 한다."
   ]
  },
  {
   "cell_type": "code",
   "execution_count": 38,
   "id": "ebf85750",
   "metadata": {},
   "outputs": [
    {
     "name": "stdout",
     "output_type": "stream",
     "text": [
      "65\n",
      "A\n"
     ]
    }
   ],
   "source": [
    "A = int(input())\n",
    "print(chr(A)) "
   ]
  },
  {
   "cell_type": "code",
   "execution_count": null,
   "id": "d813c25d",
   "metadata": {},
   "outputs": [],
   "source": []
  }
 ],
 "metadata": {
  "kernelspec": {
   "display_name": "Python 3 (ipykernel)",
   "language": "python",
   "name": "python3"
  },
  "language_info": {
   "codemirror_mode": {
    "name": "ipython",
    "version": 3
   },
   "file_extension": ".py",
   "mimetype": "text/x-python",
   "name": "python",
   "nbconvert_exporter": "python",
   "pygments_lexer": "ipython3",
   "version": "3.9.7"
  }
 },
 "nbformat": 4,
 "nbformat_minor": 5
}
